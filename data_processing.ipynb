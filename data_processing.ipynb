{
 "cells": [
  {
   "cell_type": "code",
   "execution_count": 28,
   "id": "56d763e9",
   "metadata": {},
   "outputs": [
    {
     "name": "stdout",
     "output_type": "stream",
     "text": [
      "Requirement already satisfied: pandas in c:\\users\\erik mitchell\\appdata\\local\\programs\\python\\python39\\lib\\site-packages (1.3.1)\n",
      "Requirement already satisfied: numpy>=1.17.3 in c:\\users\\erik mitchell\\appdata\\local\\programs\\python\\python39\\lib\\site-packages (from pandas) (1.19.5)\n",
      "Requirement already satisfied: pytz>=2017.3 in c:\\users\\erik mitchell\\appdata\\local\\programs\\python\\python39\\lib\\site-packages (from pandas) (2021.1)\n",
      "Requirement already satisfied: python-dateutil>=2.7.3 in c:\\users\\erik mitchell\\appdata\\local\\programs\\python\\python39\\lib\\site-packages (from pandas) (2.8.2)\n",
      "Requirement already satisfied: six>=1.5 in c:\\users\\erik mitchell\\appdata\\local\\programs\\python\\python39\\lib\\site-packages (from python-dateutil>=2.7.3->pandas) (1.15.0)\n",
      "Requirement already satisfied: matplotlib in c:\\users\\erik mitchell\\appdata\\local\\programs\\python\\python39\\lib\\site-packages (3.4.2)\n",
      "Requirement already satisfied: numpy>=1.16 in c:\\users\\erik mitchell\\appdata\\local\\programs\\python\\python39\\lib\\site-packages (from matplotlib) (1.19.5)\n",
      "Requirement already satisfied: pyparsing>=2.2.1 in c:\\users\\erik mitchell\\appdata\\local\\programs\\python\\python39\\lib\\site-packages (from matplotlib) (2.4.7)\n",
      "Requirement already satisfied: kiwisolver>=1.0.1 in c:\\users\\erik mitchell\\appdata\\local\\programs\\python\\python39\\lib\\site-packages (from matplotlib) (1.3.1)\n",
      "Requirement already satisfied: pillow>=6.2.0 in c:\\users\\erik mitchell\\appdata\\local\\programs\\python\\python39\\lib\\site-packages (from matplotlib) (8.2.0)\n",
      "Requirement already satisfied: cycler>=0.10 in c:\\users\\erik mitchell\\appdata\\local\\programs\\python\\python39\\lib\\site-packages (from matplotlib) (0.10.0)\n",
      "Requirement already satisfied: python-dateutil>=2.7 in c:\\users\\erik mitchell\\appdata\\local\\programs\\python\\python39\\lib\\site-packages (from matplotlib) (2.8.2)\n",
      "Requirement already satisfied: six in c:\\users\\erik mitchell\\appdata\\local\\programs\\python\\python39\\lib\\site-packages (from cycler>=0.10->matplotlib) (1.15.0)\n"
     ]
    }
   ],
   "source": [
    "!pip install pandas\n",
    "!pip install -U matplotlib"
   ]
  },
  {
   "cell_type": "code",
   "execution_count": 41,
   "id": "b7e13c3a",
   "metadata": {},
   "outputs": [],
   "source": [
    "import pandas as pd\n",
    "import numpy as np\n",
    "import matplotlib.pyplot as plt\n",
    "pd.set_option('display.max_rows', 1500)"
   ]
  },
  {
   "cell_type": "code",
   "execution_count": 42,
   "id": "24ad546e",
   "metadata": {},
   "outputs": [],
   "source": [
    "#df1 = pd.read_csv(\"datasets/c_feb.csv\")\n",
    "#df2 = pd.read_csv(\"datasets/c_april.csv\")\n",
    "#df3 = pd.read_csv(\"datasets/c_jun.csv\")\n",
    "#df4 = pd.read_csv(\"datasets/c_aug.csv\")\n",
    "#df5 = pd.read_csv(\"datasets/c_oct.csv\")\n",
    "#df6 = pd.read_csv(\"datasets/c_dec.csv\")\n",
    "\n",
    "location = [\"/Users/Erik Mitchell/datasets/c_feb.csv\", \"/Users/Erik Mitchell/datasets/c_jan.csv\", \n",
    "            \"/Users/Erik Mitchell/datasets/c_march.csv\", \"/Users/Erik Mitchell/datasets/c_april.csv\", \n",
    "            \"/Users/Erik Mitchell/datasets/c_may.csv\", \"/Users/Erik Mitchell/datasets/c_jun.csv\", \n",
    "            \"/Users/Erik Mitchell/datasets/c_july.csv\", \"/Users/Erik Mitchell/datasets/c_aug.csv\", \n",
    "            \"/Users/Erik Mitchell/datasets/c_sept.csv\", \"/Users/Erik Mitchell/datasets/c_oct.csv\", \n",
    "            \"/Users/Erik Mitchell/datasets/c_nov.csv\", \"/Users/Erik Mitchell/datasets/c_dec.csv\"]\n",
    "# datasets = [df1, df2, df3, df4, df5, df6]"
   ]
  },
  {
   "cell_type": "code",
   "execution_count": 43,
   "id": "888ac5ca",
   "metadata": {},
   "outputs": [],
   "source": [
    "# for one month\n",
    "#df = df2\n",
    "\n",
    "#df = df.drop([0,1,2])\n",
    "#df = df.drop(df.columns[[2]], axis = 1)\n",
    "\n",
    "#df.columns = [\"datetime\", \"temperature\"]\n",
    "#df[['date','time']] = df.datetime.str.split(\"T\",expand=True)\n",
    "\n",
    "#df[\"time_interval\"] = df.time.astype('category').cat.codes\n",
    "\n",
    "#df[\"temperature\"] = df[\"temperature\"].apply(pd.to_numeric)\n",
    "#df = df.fillna(method=\"ffill\")\n",
    "\n",
    "#df = df.drop([\"date\", \"datetime\", \"time\"], axis=1)\n",
    "\n",
    "#df.to_csv(\"datasets/test_data.csv\", index=False)"
   ]
  },
  {
   "cell_type": "code",
   "execution_count": 73,
   "id": "8860748c",
   "metadata": {},
   "outputs": [],
   "source": [
    "cleaned_data = []\n",
    "non_peak_energy_price = 1\n",
    "peak_energy_price = 2\n",
    "\n",
    "for link in location:\n",
    "    \n",
    "    df = pd.read_csv(link)\n",
    "    df = df.drop([0,1,2])\n",
    "    df = df.drop(df.columns[[2]], axis = 1)\n",
    "    \n",
    "    df.columns = [\"datetime\", \"temperature\"]\n",
    "    df[['date','time']] = df.datetime.str.split(\"T\",expand=True)\n",
    "    \n",
    "    df[\"time_interval\"] = df.time.astype('category').cat.codes\n",
    "    \n",
    "    df['price_energy'] = df.time_interval.astype(int)\n",
    "    df['price_energy'] = np.where(\n",
    "        (df.price_energy > 340)&(df.price_energy < 439), '2', '1')\n",
    "   #df.time_interval\n",
    "    \n",
    "    #df['price_energy'] = np.where(df.time_interval.astype(int) > 340 & df.time_interval.astype(int) < 439 , '2', '1')\n",
    "    \n",
    "    df[\"temperature\"] = df[\"temperature\"].apply(pd.to_numeric)\n",
    "    df = df.fillna(method=\"ffill\")\n",
    "    \n",
    "\n",
    "    \n",
    "    df = df.drop([\"date\", \"datetime\", \"time\"], axis=1)\n",
    "    \n",
    "#     df[\"temperature\"].plot(label=f'month {i}')\n",
    "    cleaned_data.append(df)"
   ]
  },
  {
   "cell_type": "code",
   "execution_count": 74,
   "id": "beea6e87",
   "metadata": {},
   "outputs": [
    {
     "data": {
      "text/plain": [
       "<bound method DataFrame.info of       temperature  time_interval price_energy\n",
       "3          29.941              0            1\n",
       "4          29.941              1            1\n",
       "5          29.941              2            1\n",
       "6          29.966              3            1\n",
       "7          29.941              4            1\n",
       "...           ...            ...          ...\n",
       "7078       28.171            235            1\n",
       "7079       28.171            236            1\n",
       "7080       28.196            237            1\n",
       "7081       28.196            238            1\n",
       "7082       28.171            239            1\n",
       "\n",
       "[101380 rows x 3 columns]>"
      ]
     },
     "execution_count": 74,
     "metadata": {},
     "output_type": "execute_result"
    }
   ],
   "source": [
    "df = pd.concat(cleaned_data)\n",
    "df.info"
   ]
  },
  {
   "cell_type": "code",
   "execution_count": 75,
   "id": "34a24d99",
   "metadata": {},
   "outputs": [],
   "source": [
    "df.to_csv(\"/Users/Erik Mitchell/datasets/cleaned_data.csv\", index=False)"
   ]
  },
  {
   "cell_type": "code",
   "execution_count": 81,
   "id": "9faafd00",
   "metadata": {},
   "outputs": [],
   "source": [
    "def printdata():\n",
    "    while True:\n",
    "        for i in range(len(df)):    \n",
    "            temp, time, price = df.iloc[i, :]\n",
    "            yield temp, time, price"
   ]
  },
  {
   "cell_type": "code",
   "execution_count": 82,
   "id": "ffe0e2b9",
   "metadata": {},
   "outputs": [],
   "source": [
    "generator = printdata()"
   ]
  },
  {
   "cell_type": "code",
   "execution_count": 83,
   "id": "a30e2185",
   "metadata": {},
   "outputs": [],
   "source": [
    "def infinite_sequence():\n",
    "    num = 0\n",
    "    while True:\n",
    "        yield num\n",
    "        num += 1"
   ]
  },
  {
   "cell_type": "code",
   "execution_count": 84,
   "id": "84299219",
   "metadata": {},
   "outputs": [],
   "source": [
    "temp = infinite_sequence()"
   ]
  },
  {
   "cell_type": "code",
   "execution_count": 85,
   "id": "122b5b13",
   "metadata": {},
   "outputs": [
    {
     "data": {
      "text/plain": [
       "(29.941, 0, '1')"
      ]
     },
     "execution_count": 85,
     "metadata": {},
     "output_type": "execute_result"
    }
   ],
   "source": [
    "generator.__next__()"
   ]
  },
  {
   "cell_type": "code",
   "execution_count": null,
   "id": "42bd8d90",
   "metadata": {},
   "outputs": [],
   "source": []
  }
 ],
 "metadata": {
  "kernelspec": {
   "display_name": "Python 3 (ipykernel)",
   "language": "python",
   "name": "python3"
  },
  "language_info": {
   "codemirror_mode": {
    "name": "ipython",
    "version": 3
   },
   "file_extension": ".py",
   "mimetype": "text/x-python",
   "name": "python",
   "nbconvert_exporter": "python",
   "pygments_lexer": "ipython3",
   "version": "3.9.5"
  }
 },
 "nbformat": 4,
 "nbformat_minor": 5
}
